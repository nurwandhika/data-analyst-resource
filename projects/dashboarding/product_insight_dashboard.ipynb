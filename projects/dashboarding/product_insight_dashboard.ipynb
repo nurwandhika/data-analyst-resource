{
 "cells": [
  {
   "cell_type": "markdown",
   "id": "03ad3c80",
   "metadata": {},
   "source": [
    "\n",
    "# Dashboarding: Product Insight Dashboard\n",
    "\n",
    "This notebook demonstrates how to build a simple interactive dashboard using Plotly Express. The dataset is a small sample of product sales data.\n"
   ]
  },
  {
   "cell_type": "code",
   "execution_count": null,
   "id": "2df22d10",
   "metadata": {},
   "outputs": [],
   "source": [
    "import pandas as pd\n",
    "import plotly.express as px\n",
    "\n",
    "# Sample data\n",
    "sales_data = pd.DataFrame({\n",
    "    'product': ['Widget', 'Gadget', 'Gizmo', 'Widget', 'Gadget', 'Gizmo'],\n",
    "    'region': ['North', 'South', 'East', 'West', 'North', 'South'],\n",
    "    'quantity': [100, 150, 200, 130, 120, 180],\n",
    "    'revenue': [1000, 2250, 3000, 1560, 1440, 2700]\n",
    "})\n",
    "\n",
    "sales_data\n"
   ]
  },
  {
   "cell_type": "markdown",
   "id": "62b16d00",
   "metadata": {},
   "source": [
    "\n",
    "## Interactive Bar Chart\n",
    "\n",
    "Use Plotly Express to create interactive visuals. You can hover over bars to see detailed values and use built\u2011in controls to zoom or pan.\n"
   ]
  },
  {
   "cell_type": "code",
   "execution_count": null,
   "id": "c29f7e3a",
   "metadata": {},
   "outputs": [],
   "source": [
    "# Create an interactive bar chart showing revenue by product\n",
    "fig = px.bar(sales_data, x='product', y='revenue', color='region', barmode='group',\n",
    "             title='Revenue by Product and Region')\n",
    "\n",
    "fig.show()\n"
   ]
  },
  {
   "cell_type": "markdown",
   "id": "5c92ff9d",
   "metadata": {},
   "source": [
    "\n",
    "## Creating Dashboards Outside of Notebooks\n",
    "\n",
    "For full\u2011featured dashboards, consider using tools like **Plotly Dash**, **Panel**, or **Streamlit**. These frameworks allow you to build interactive web apps with filters, dropdowns, and dynamic charts that are easily shared with stakeholders.\n"
   ]
  }
 ],
 "metadata": {},
 "nbformat": 4,
 "nbformat_minor": 5
}
