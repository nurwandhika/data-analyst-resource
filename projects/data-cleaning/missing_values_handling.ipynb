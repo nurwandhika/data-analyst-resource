{
 "cells": [
  {
   "cell_type": "markdown",
   "id": "a04a0aa0",
   "metadata": {},
   "source": [
    "\n",
    "# Data Cleaning: Handling Missing Values\n",
    "\n",
    "This notebook illustrates common techniques for detecting and handling missing values using pandas.\n"
   ]
  },
  {
   "cell_type": "code",
   "execution_count": null,
   "id": "bb2e0f27",
   "metadata": {},
   "outputs": [],
   "source": [
    "import pandas as pd\n",
    "import numpy as np\n",
    "\n",
    "%matplotlib inline\n"
   ]
  },
  {
   "cell_type": "code",
   "execution_count": null,
   "id": "7173a6b7",
   "metadata": {},
   "outputs": [],
   "source": [
    "# Create a DataFrame with missing values\n",
    "\n",
    "data = {\n",
    "    'customer': ['Alice', 'Bob', 'Charlie', 'Dana', 'Eve'],\n",
    "    'age': [25, np.nan, 30, 35, np.nan],\n",
    "    'city': ['Jakarta', 'Depok', np.nan, 'Bogor', 'Tangerang'],\n",
    "    'purchase_amount': [100.0, 200.0, np.nan, 150.0, 120.0]\n",
    "}\n",
    "\n",
    "df = pd.DataFrame(data)\n",
    "df\n"
   ]
  },
  {
   "cell_type": "markdown",
   "id": "d4eb5c9d",
   "metadata": {},
   "source": [
    "\n",
    "## Detecting Missing Values\n",
    "\n",
    "We can use pandas functions to identify missing values in each column.\n"
   ]
  },
  {
   "cell_type": "code",
   "execution_count": null,
   "id": "222e398b",
   "metadata": {},
   "outputs": [],
   "source": [
    "# Count missing values per column\n",
    "df.isnull().sum()\n"
   ]
  },
  {
   "cell_type": "markdown",
   "id": "fd0aba7a",
   "metadata": {},
   "source": [
    "\n",
    "## Removing Missing Values\n",
    "\n",
    "Sometimes dropping rows or columns with missing values is appropriate when the incomplete data is not needed.\n"
   ]
  },
  {
   "cell_type": "code",
   "execution_count": null,
   "id": "1ad64942",
   "metadata": {},
   "outputs": [],
   "source": [
    "# Drop rows with any missing values\n",
    "df_dropped = df.dropna()\n",
    "df_dropped\n"
   ]
  },
  {
   "cell_type": "markdown",
   "id": "2f953c02",
   "metadata": {},
   "source": [
    "\n",
    "## Imputing Missing Values\n",
    "\n",
    "When removing data isn’t practical, you can fill missing values using statistical measures such as mean or mode.\n"
   ]
  },
  {
   "cell_type": "code",
   "execution_count": null,
   "id": "a94cc3ad",
   "metadata": {},
   "outputs": [],
   "source": [
    "# Fill missing ages with mean age and missing cities with the mode\n",
    "\n",
    "mean_age = df['age'].mean()\n",
    "mode_city = df['city'].mode()[0]\n",
    "\n",
    "imputed_df = df.copy()\n",
    "imputed_df['age'] = imputed_df['age'].fillna(mean_age)\n",
    "imputed_df['city'] = imputed_df['city'].fillna(mode_city)\n",
    "imputed_df['purchase_amount'] = imputed_df['purchase_amount'].fillna(imputed_df['purchase_amount'].median())\n",
    "\n",
    "imputed_df\n"
   ]
  }
 ],
 "metadata": {},
 "nbformat": 4,
 "nbformat_minor": 5
}
