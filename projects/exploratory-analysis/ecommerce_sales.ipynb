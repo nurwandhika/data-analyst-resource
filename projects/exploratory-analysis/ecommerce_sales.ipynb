{
 "cells": [
  {
   "cell_type": "markdown",
   "id": "1b6c28a2",
   "metadata": {},
   "source": [
    "\n",
    "# Exploratory Analysis: E\u2011commerce Sales\n",
    "\n",
    "This notebook demonstrates a simple exploratory data analysis (EDA) workflow using a hypothetical e\u2011commerce sales dataset. The goal is to familiarize yourself with data structures, summary statistics, and basic visualizations.\n"
   ]
  },
  {
   "cell_type": "code",
   "execution_count": null,
   "id": "ee8d5bfa",
   "metadata": {},
   "outputs": [],
   "source": [
    "import pandas as pd\n",
    "import matplotlib.pyplot as plt\n",
    "\n",
    "# Configure plots to display inline\n",
    "%matplotlib inline\n"
   ]
  },
  {
   "cell_type": "code",
   "execution_count": null,
   "id": "43a40a99",
   "metadata": {},
   "outputs": [],
   "source": [
    "# Create a sample DataFrame representing e\u2011commerce transactions\n",
    "data = {\n",
    "    'order_id': [1, 2, 3, 4, 5, 6],\n",
    "    'customer': ['Alice', 'Bob', 'Charlie', 'Alice', 'Bob', 'Dana'],\n",
    "    'product': ['Widget', 'Widget', 'Gadget', 'Gizmo', 'Gadget', 'Widget'],\n",
    "    'category': ['Accessories', 'Accessories', 'Electronics', 'Electronics', 'Electronics', 'Accessories'],\n",
    "    'quantity': [2, 1, 3, 2, 5, 1],\n",
    "    'price': [25.0, 25.0, 40.0, 35.0, 40.0, 25.0],\n",
    "    'order_date': pd.to_datetime(['2025-01-10','2025-01-12','2025-01-15','2025-01-20','2025-02-02','2025-02-05'])\n",
    "}\n",
    "\n",
    "df = pd.DataFrame(data)\n",
    "\n",
    "df.head()\n"
   ]
  },
  {
   "cell_type": "markdown",
   "id": "eeb63564",
   "metadata": {},
   "source": [
    "\n",
    "## Summary Statistics\n",
    "\n",
    "Let's review some summary statistics and aggregation to understand our data.\n"
   ]
  },
  {
   "cell_type": "code",
   "execution_count": null,
   "id": "cfb79f5c",
   "metadata": {},
   "outputs": [],
   "source": [
    "# Display basic statistics for numeric columns\n",
    "df[['quantity', 'price']].describe()\n"
   ]
  },
  {
   "cell_type": "code",
   "execution_count": null,
   "id": "5b619b1c",
   "metadata": {},
   "outputs": [],
   "source": [
    "# Calculate total revenue per order and per category\n",
    "\n",
    "df['revenue'] = df['quantity'] * df['price']\n",
    "\n",
    "revenue_by_category = df.groupby('category')['revenue'].sum()\n",
    "revenue_by_category\n"
   ]
  },
  {
   "cell_type": "markdown",
   "id": "ee2cac7c",
   "metadata": {},
   "source": [
    "\n",
    "## Visualize Revenue by Category\n",
    "\n",
    "We can create a simple bar chart to compare revenue between categories. Matplotlib is used here for demonstration.\n"
   ]
  },
  {
   "cell_type": "code",
   "execution_count": null,
   "id": "9c109fb2",
   "metadata": {},
   "outputs": [],
   "source": [
    "# Bar plot of revenue by category\n",
    "revenue_by_category.plot(kind='bar')\n",
    "plt.xlabel('Category')\n",
    "plt.ylabel('Revenue ($)')\n",
    "plt.title('Total Revenue by Category')\n",
    "plt.show()\n"
   ]
  }
 ],
 "metadata": {},
 "nbformat": 4,
 "nbformat_minor": 5
}
